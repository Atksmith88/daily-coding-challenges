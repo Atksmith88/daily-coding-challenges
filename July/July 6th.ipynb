{
 "cells": [
  {
   "cell_type": "markdown",
   "metadata": {},
   "source": [
    "## Most Valuable Character\n",
    "\n",
    "In this Kata, you will be given a string and your task is to return the most valuable character. The value of a character is the difference between the index of its last occurrence and the index of its first occurrence. Return the character that has the highest value. If there is a tie, return the lexicographically lowest character. [For Golang return rune]\n",
    "\n",
    "All inputs will be lower case.\n",
    "\n",
    "For example:\n",
    "\n",
    "    solve('a') = 'a'\n",
    "    solve('ab') = 'a'. Last occurrence is equal to first occurrence of each character. Return lexicographically lowest.\n",
    "    solve(\"axyzxyz\") = 'x'"
   ]
  },
  {
   "cell_type": "code",
   "execution_count": 38,
   "metadata": {},
   "outputs": [],
   "source": [
    "def solve(st):\n",
    "    char_dict = {}\n",
    "    mvc = (sorted(st)[0], 0)\n",
    "    for i, c in enumerate(st):\n",
    "        try:\n",
    "            char_dict[c].append(i)\n",
    "        except:\n",
    "            char_dict[c] = [i]\n",
    "    for c, v in sorted(char_dict.items()):\n",
    "        if (v[-1] - v[0]) > mvc[1]:\n",
    "            mvc = (c, (v[-1] - v[0]))\n",
    "    return mvc[0]"
   ]
  },
  {
   "cell_type": "code",
   "execution_count": 39,
   "metadata": {},
   "outputs": [
    {
     "data": {
      "text/plain": [
       "'c'"
      ]
     },
     "execution_count": 39,
     "metadata": {},
     "output_type": "execute_result"
    }
   ],
   "source": [
    "solve('aabccc') #c"
   ]
  },
  {
   "cell_type": "code",
   "execution_count": 40,
   "metadata": {},
   "outputs": [
    {
     "data": {
      "text/plain": [
       "'x'"
      ]
     },
     "execution_count": 40,
     "metadata": {},
     "output_type": "execute_result"
    }
   ],
   "source": [
    "solve('axyzxyz') #x"
   ]
  },
  {
   "cell_type": "code",
   "execution_count": 41,
   "metadata": {},
   "outputs": [
    {
     "data": {
      "text/plain": [
       "'a'"
      ]
     },
     "execution_count": 41,
     "metadata": {},
     "output_type": "execute_result"
    }
   ],
   "source": [
    "solve('ba')"
   ]
  }
 ],
 "metadata": {
  "kernelspec": {
   "display_name": "Python [conda env:learn-env] *",
   "language": "python",
   "name": "conda-env-learn-env-py"
  },
  "language_info": {
   "codemirror_mode": {
    "name": "ipython",
    "version": 3
   },
   "file_extension": ".py",
   "mimetype": "text/x-python",
   "name": "python",
   "nbconvert_exporter": "python",
   "pygments_lexer": "ipython3",
   "version": "3.6.9"
  }
 },
 "nbformat": 4,
 "nbformat_minor": 2
}
