{
 "cells": [
  {
   "cell_type": "markdown",
   "metadata": {},
   "source": [
    "## Round Up To The Next Multiple Of 5\n",
    "\n",
    "Given an integer as input, can you round it to the next (meaning, \"higher\") 5?\n",
    "\n",
    "Examples:\n",
    "\n",
    "    input:    output:\n",
    "    0    ->   0\n",
    "    2    ->   5\n",
    "    3    ->   5\n",
    "    12   ->   15\n",
    "    21   ->   25\n",
    "    30   ->   30\n",
    "    -2   ->   0\n",
    "    -5   ->   -5\n",
    "    \n",
    "etc.\n",
    "Input may be any positive or negative integer (including 0).\n",
    "\n",
    "You can assume that all inputs are valid integers."
   ]
  },
  {
   "cell_type": "code",
   "execution_count": 15,
   "metadata": {},
   "outputs": [],
   "source": [
    "def round_to_next5(n):\n",
    "    while not (n/5).is_integer():\n",
    "        n += 1\n",
    "    return n"
   ]
  },
  {
   "cell_type": "code",
   "execution_count": 16,
   "metadata": {},
   "outputs": [
    {
     "data": {
      "text/plain": [
       "0"
      ]
     },
     "execution_count": 16,
     "metadata": {},
     "output_type": "execute_result"
    }
   ],
   "source": [
    "round_to_next5(0)"
   ]
  },
  {
   "cell_type": "code",
   "execution_count": 17,
   "metadata": {},
   "outputs": [
    {
     "data": {
      "text/plain": [
       "10"
      ]
     },
     "execution_count": 17,
     "metadata": {},
     "output_type": "execute_result"
    }
   ],
   "source": [
    "round_to_next5(7)"
   ]
  }
 ],
 "metadata": {
  "kernelspec": {
   "display_name": "Python 3",
   "language": "python",
   "name": "python3"
  },
  "language_info": {
   "codemirror_mode": {
    "name": "ipython",
    "version": 3
   },
   "file_extension": ".py",
   "mimetype": "text/x-python",
   "name": "python",
   "nbconvert_exporter": "python",
   "pygments_lexer": "ipython3",
   "version": "3.6.9"
  }
 },
 "nbformat": 4,
 "nbformat_minor": 2
}
