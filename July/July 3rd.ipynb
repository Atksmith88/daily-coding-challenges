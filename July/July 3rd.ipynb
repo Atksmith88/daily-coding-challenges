{
 "cells": [
  {
   "cell_type": "markdown",
   "metadata": {},
   "source": [
    "## Aerial Firefighting\n",
    "\n",
    "You are an aerial firefighter (someone who drops water on fires from above in order to extinguish them) and your goal is to work out the minimum amount of bombs you need to drop in order to fully extinguish the fire (the fire department has budgeting concerns and you can't just be dropping tons of bombs, they need that money for the annual christmas party).\n",
    "\n",
    "The given string is a 2D plane of random length consisting of two characters:\n",
    "\n",
    "x representing fire\n",
    "Y representing buildings.\n",
    "Water that you drop cannot go through buildings and therefore individual sections of fire must be addressed separately.\n",
    "\n",
    "Your water bombs can only extinguish contiguous sections of fire up to a width (parameter w).\n",
    "\n",
    "You must return the minimum number of waterbombs it would take to extinguish the fire in the string.\n",
    "\n",
    "Note: all inputs will be valid.\n",
    "\n",
    "Examples\n",
    "\n",
    "    \"xxYxx\" and w = 3      -->  2 waterbombs needed\n",
    "    \"xxYxx\" and w = 1      -->  4\n",
    "    \"xxxxYxYx\" and w = 5   -->  3\n",
    "    \"xxxxxYxYx\" and w = 2  -->  5"
   ]
  },
  {
   "cell_type": "code",
   "execution_count": 5,
   "metadata": {},
   "outputs": [],
   "source": [
    "def waterbombs(fire, w):\n",
    "    wb = 0\n",
    "    for x in fire.split('Y'):\n",
    "        if (len(x)/w).is_integer():\n",
    "            wb += len(x)//w\n",
    "        else:\n",
    "            wb += len(x)//w+1\n",
    "    return wb"
   ]
  },
  {
   "cell_type": "code",
   "execution_count": 6,
   "metadata": {},
   "outputs": [
    {
     "data": {
      "text/plain": [
       "3"
      ]
     },
     "execution_count": 6,
     "metadata": {},
     "output_type": "execute_result"
    }
   ],
   "source": [
    "waterbombs(\"xxxxYxYx\", 4)"
   ]
  },
  {
   "cell_type": "code",
   "execution_count": 7,
   "metadata": {},
   "outputs": [
    {
     "data": {
      "text/plain": [
       "2"
      ]
     },
     "execution_count": 7,
     "metadata": {},
     "output_type": "execute_result"
    }
   ],
   "source": [
    "waterbombs(\"xxYxx\", 3)"
   ]
  },
  {
   "cell_type": "code",
   "execution_count": null,
   "metadata": {},
   "outputs": [],
   "source": []
  }
 ],
 "metadata": {
  "kernelspec": {
   "display_name": "Python [conda env:learn-env] *",
   "language": "python",
   "name": "conda-env-learn-env-py"
  },
  "language_info": {
   "codemirror_mode": {
    "name": "ipython",
    "version": 3
   },
   "file_extension": ".py",
   "mimetype": "text/x-python",
   "name": "python",
   "nbconvert_exporter": "python",
   "pygments_lexer": "ipython3",
   "version": "3.6.9"
  }
 },
 "nbformat": 4,
 "nbformat_minor": 2
}
