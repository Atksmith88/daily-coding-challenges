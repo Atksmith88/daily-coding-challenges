{
 "cells": [
  {
   "cell_type": "markdown",
   "metadata": {},
   "source": [
    "## Can you win the codewar?\n",
    "Two kingdoms are at war and, thanks to your codewarrior prowesses, you have been named general by one of the warring states. Your opponent's armies are larger than yours, but maybe you can reach a stalemate or even win the conflict if you are a good strategist.\n",
    "\n",
    "You control the same number of armies as the rival state, but theirs are generally larger. You have to send a single army to fight each of your opponent's ones.\n",
    "(It implies there will be as many battles as armies).\n",
    "There are no possible David-and-Goliath surprises : the outcome of a battle is always the victory of the larger army (or a standoff if both are of the same size).\n",
    "The winning side is the one which wins the most battles.\n",
    "The outcome can be a stalemate if both win the same number.\n",
    "\n",
    "You have to write a function\n",
    "\n",
    "    codewar_result(codewarrior, opponent)\n",
    "    \n",
    "that takes as input each side's armies as arrays of strictly positive integers which represent their sizes. The function returns the strings \"Defeat\" , \"Stalemate\" or \"Victory\" depending on the outcome of the war for your side with an optimal strategy on your behalf.\n",
    "\n",
    "For example, if you have 3 armies of sizes [1,4,1] and the rival state has armies of sizes [1,5,3] , despite you having on average smaller forces, it is possible to reach a stalemate :\n",
    "\n",
    "    1-1 : standoff\n",
    "    4-3 : victory for you\n",
    "    1-5 : victory for the opposing army\n",
    "\n",
    "when the dust settles, you have won one battle, lost one, and one was indecisive so\n",
    "\n",
    "    codewar_result([1, 4, 1], [1, 5, 3])\n",
    "\n",
    "should return \"Stalemate\".\n",
    "\n",
    "More examples:\n",
    "\n",
    "    codewar_result([2, 4, 3, 1], [4, 5, 1, 2])\n",
    "\n",
    "should return \"Victory\" because it is possible to win by disposing your armies this way :\n",
    "\n",
    "    2-1\n",
    "    4-4\n",
    "    3-2\n",
    "    1-5\n",
    "    \n",
    "thus winning two battles, deadlocking one and losing one.\n",
    "\n",
    "    codewar_result([1, 2, 2, 1], [3, 1, 2, 3])\n",
    "\n",
    "should return \"Defeat\" because even with an optimal strategy it is not possible to win. The best you can do is one victory and one tie :\n",
    "\n",
    "    1-3\n",
    "    2-1\n",
    "    2-2\n",
    "    1-3"
   ]
  },
  {
   "cell_type": "code",
   "execution_count": 83,
   "metadata": {},
   "outputs": [],
   "source": [
    "def codewar_result (codewarrior, opponent):\n",
    "    final = 'Defeat'\n",
    "    codewarrior = sorted(codewarrior, reverse = True)\n",
    "    opponent = sorted(opponent, reverse = True)\n",
    "    for i in range(len(codewarrior)):\n",
    "        results = {'won': 0, 'lost': 0}\n",
    "        for a, e in zip(codewarrior, opponent):\n",
    "            if a > e:\n",
    "                results['won'] += 1\n",
    "            elif a < e:\n",
    "                results['lost'] += 1\n",
    "        if results['won'] > results['lost']:\n",
    "            final = 'Victory'\n",
    "        elif results['won'] == results['lost'] and final != 'Victory':\n",
    "            final = 'Stalemate'\n",
    "        opponent.insert(0, opponent.pop())\n",
    "    return final"
   ]
  },
  {
   "cell_type": "code",
   "execution_count": 84,
   "metadata": {},
   "outputs": [
    {
     "data": {
      "text/plain": [
       "'Stalemate'"
      ]
     },
     "execution_count": 84,
     "metadata": {},
     "output_type": "execute_result"
    }
   ],
   "source": [
    "codewar_result([1, 4, 1], [1, 5, 3]) #'Stalemate'"
   ]
  },
  {
   "cell_type": "code",
   "execution_count": 85,
   "metadata": {},
   "outputs": [
    {
     "data": {
      "text/plain": [
       "'Victory'"
      ]
     },
     "execution_count": 85,
     "metadata": {},
     "output_type": "execute_result"
    }
   ],
   "source": [
    "codewar_result([2, 4, 3, 1], [4, 5, 1, 2]) #'Victory'"
   ]
  },
  {
   "cell_type": "code",
   "execution_count": 86,
   "metadata": {},
   "outputs": [
    {
     "data": {
      "text/plain": [
       "'Defeat'"
      ]
     },
     "execution_count": 86,
     "metadata": {},
     "output_type": "execute_result"
    }
   ],
   "source": [
    "codewar_result([1, 2, 2, 1], [3, 1, 2, 3]) #'Defeat'"
   ]
  },
  {
   "cell_type": "code",
   "execution_count": 87,
   "metadata": {},
   "outputs": [
    {
     "data": {
      "text/plain": [
       "'Stalemate'"
      ]
     },
     "execution_count": 87,
     "metadata": {},
     "output_type": "execute_result"
    }
   ],
   "source": [
    "codewar_result([1, 1, 1, 1], [1, 1, 1, 1]) #'Stalemate'"
   ]
  },
  {
   "cell_type": "code",
   "execution_count": 88,
   "metadata": {},
   "outputs": [
    {
     "data": {
      "text/plain": [
       "'Defeat'"
      ]
     },
     "execution_count": 88,
     "metadata": {},
     "output_type": "execute_result"
    }
   ],
   "source": [
    "codewar_result([5], [6]) #'Defeat'"
   ]
  },
  {
   "cell_type": "code",
   "execution_count": 89,
   "metadata": {},
   "outputs": [
    {
     "data": {
      "text/plain": [
       "'Stalemate'"
      ]
     },
     "execution_count": 89,
     "metadata": {},
     "output_type": "execute_result"
    }
   ],
   "source": [
    "codewar_result([2, 1, 3, 1, 1, 3, 3, 2, 3, 1, 1, 1, 3, 1, 3, 1, 3, 3, 1, 2, 3, 3, 1, 3], [4, 4, 1, 4, 3, 1, 4, 4, 3, 2, 1, 2, 1, 3, 3, 1, 4, 4, 3, 2, 3, 2, 4, 1])\n",
    "#'Stalemate'"
   ]
  },
  {
   "cell_type": "code",
   "execution_count": null,
   "metadata": {},
   "outputs": [],
   "source": []
  }
 ],
 "metadata": {
  "kernelspec": {
   "display_name": "Python [conda env:learn-env] *",
   "language": "python",
   "name": "conda-env-learn-env-py"
  },
  "language_info": {
   "codemirror_mode": {
    "name": "ipython",
    "version": 3
   },
   "file_extension": ".py",
   "mimetype": "text/x-python",
   "name": "python",
   "nbconvert_exporter": "python",
   "pygments_lexer": "ipython3",
   "version": "3.6.9"
  }
 },
 "nbformat": 4,
 "nbformat_minor": 2
}
