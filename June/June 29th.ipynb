{
 "cells": [
  {
   "cell_type": "markdown",
   "metadata": {},
   "source": [
    "## String Letter Counting\n",
    "Take an input string and return a string that is made up of the number of occurences of each english letter in the input followed by that letter, sorted alphabetically. The output string shouldn't contain chars missing from input (chars with 0 occurence); leave them out.\n",
    "\n",
    "An empty string, or one with no letters, should return an empty string.\n",
    "\n",
    "Notes:\n",
    "\n",
    "1: The input will always be valid;\n",
    "2: Treat letters as case-insensitive\n",
    "\n",
    "Examples\n",
    "\n",
    "    \"This is a test sentence.\"  ==>  \"1a1c4e1h2i2n4s4t\"\n",
    "    \"\"                          ==>  \"\"\n",
    "    \"555\"                       ==>  \"\""
   ]
  },
  {
   "cell_type": "code",
   "execution_count": 5,
   "metadata": {},
   "outputs": [],
   "source": [
    "def string_letter_count(s):\n",
    "    return ''.join([f'{s.lower().count(l)}{l}' for l in sorted(set(s.lower())) if l.isalpha()])"
   ]
  },
  {
   "cell_type": "code",
   "execution_count": 6,
   "metadata": {},
   "outputs": [
    {
     "data": {
      "text/plain": [
       "'1a1b1c1d3e1f1g2h1i1j1k1l1m1n4o1p1q2r1s2t2u1v1w1x1y1z'"
      ]
     },
     "execution_count": 6,
     "metadata": {},
     "output_type": "execute_result"
    }
   ],
   "source": [
    "string_letter_count(\"The quick brown fox jumps over the lazy dog.\") #\"1a1b1c1d3e1f1g2h1i1j1k1l1m1n4o1p1q2r1s2t2u1v1w1x1y1z\""
   ]
  },
  {
   "cell_type": "code",
   "execution_count": 7,
   "metadata": {},
   "outputs": [
    {
     "data": {
      "text/plain": [
       "'2a1d5e1g1h4i1j2m3n3o3s6t1u2w2y'"
      ]
     },
     "execution_count": 7,
     "metadata": {},
     "output_type": "execute_result"
    }
   ],
   "source": [
    "string_letter_count(\"The time you enjoy wasting is not wasted time.\") #\"2a1d5e1g1h4i1j2m3n3o3s6t1u2w2y\""
   ]
  },
  {
   "cell_type": "code",
   "execution_count": 8,
   "metadata": {},
   "outputs": [
    {
     "data": {
      "text/plain": [
       "''"
      ]
     },
     "execution_count": 8,
     "metadata": {},
     "output_type": "execute_result"
    }
   ],
   "source": [
    "string_letter_count(\"./4592#{}()\") #\"\""
   ]
  }
 ],
 "metadata": {
  "kernelspec": {
   "display_name": "Python [conda env:learn-env] *",
   "language": "python",
   "name": "conda-env-learn-env-py"
  },
  "language_info": {
   "codemirror_mode": {
    "name": "ipython",
    "version": 3
   },
   "file_extension": ".py",
   "mimetype": "text/x-python",
   "name": "python",
   "nbconvert_exporter": "python",
   "pygments_lexer": "ipython3",
   "version": "3.6.9"
  }
 },
 "nbformat": 4,
 "nbformat_minor": 2
}
