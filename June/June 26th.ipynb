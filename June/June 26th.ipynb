{
 "cells": [
  {
   "cell_type": "markdown",
   "metadata": {},
   "source": [
    "## Minimum Amount Of Fuel Needed To Get Some Iron Ingots\n",
    "\n",
    "Just another day in the world of Minecraft, Steve is getting ready to start his next exciting project -- building a railway system!\n",
    "\n",
    "But first, Steve needs to melt some iron ores in the furnace to get the main building blocks of rails -- iron ingots.\n",
    "\n",
    "Each iron ingot takes 11 seconds* to produce. Steve needs a lot of them, and he has the following fuel options to add into the furnace:\n",
    "\n",
    "Buckets of lava, each lasts 800 seconds\n",
    "Blaze rod, each lasts 120 seconds\n",
    "Coals, each lasts 80 secondsA\n",
    "Blocks of Wood, each lasts 15 seconds\n",
    "Sticks, each lasts 1 second\n",
    "\n",
    "Write a function calc_fuel that calculates the minimum amount of fuel needed to produce a certain number of iron ingots. This function should return a dictionary of the form \n",
    "    \n",
    "    {\"lava\": 2, \"blaze rod\": 1, \"coal\": 1, \"wood\": 0, \"stick\": 0}"
   ]
  },
  {
   "cell_type": "code",
   "execution_count": 5,
   "metadata": {},
   "outputs": [],
   "source": [
    "def calc_fuel(n):\n",
    "    total_fuel = n*11\n",
    "    output = {\"lava\": 0, \"blaze rod\": 0, \"coal\": 0, \"wood\": 0, \"stick\": 0}\n",
    "    while total_fuel >= 800:\n",
    "        output[\"lava\"] += 1\n",
    "        total_fuel -= 800\n",
    "    while total_fuel >= 120:\n",
    "        output[\"blaze rod\"] += 1\n",
    "        total_fuel -= 120\n",
    "    while total_fuel >= 80:\n",
    "        output[\"coal\"] += 1\n",
    "        total_fuel -= 80\n",
    "    while total_fuel >= 15:\n",
    "        output[\"wood\"] += 1\n",
    "        total_fuel -= 15\n",
    "    while total_fuel > 0:\n",
    "        output[\"stick\"] += 1\n",
    "        total_fuel -= 1\n",
    "    return output"
   ]
  },
  {
   "cell_type": "code",
   "execution_count": 6,
   "metadata": {},
   "outputs": [
    {
     "data": {
      "text/plain": [
       "{'lava': 0, 'blaze rod': 3, 'coal': 0, 'wood': 3, 'stick': 2}"
      ]
     },
     "execution_count": 6,
     "metadata": {},
     "output_type": "execute_result"
    }
   ],
   "source": [
    "calc_fuel(37) #{\"lava\": 0, \"blaze rod\": 3, \"coal\": 0, \"wood\": 3, \"stick\": 2}"
   ]
  },
  {
   "cell_type": "code",
   "execution_count": 7,
   "metadata": {},
   "outputs": [
    {
     "data": {
      "text/plain": [
       "{'lava': 0, 'blaze rod': 1, 'coal': 1, 'wood': 2, 'stick': 1}"
      ]
     },
     "execution_count": 7,
     "metadata": {},
     "output_type": "execute_result"
    }
   ],
   "source": [
    "calc_fuel(21) #{\"lava\": 0, \"blaze rod\": 1, \"coal\": 1, \"wood\": 2, \"stick\": 1}"
   ]
  },
  {
   "cell_type": "code",
   "execution_count": 8,
   "metadata": {},
   "outputs": [
    {
     "data": {
      "text/plain": [
       "{'lava': 1, 'blaze rod': 4, 'coal': 0, 'wood': 4, 'stick': 13}"
      ]
     },
     "execution_count": 8,
     "metadata": {},
     "output_type": "execute_result"
    }
   ],
   "source": [
    "calc_fuel(123) #{\"lava\": 1, \"blaze rod\": 4, \"coal\": 0, \"wood\": 4, \"stick\": 13}"
   ]
  }
 ],
 "metadata": {
  "kernelspec": {
   "display_name": "Python [conda env:learn-env] *",
   "language": "python",
   "name": "conda-env-learn-env-py"
  },
  "language_info": {
   "codemirror_mode": {
    "name": "ipython",
    "version": 3
   },
   "file_extension": ".py",
   "mimetype": "text/x-python",
   "name": "python",
   "nbconvert_exporter": "python",
   "pygments_lexer": "ipython3",
   "version": "3.6.9"
  }
 },
 "nbformat": 4,
 "nbformat_minor": 2
}
