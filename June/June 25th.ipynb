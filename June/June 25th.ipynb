{
 "cells": [
  {
   "cell_type": "markdown",
   "metadata": {},
   "source": [
    "## Encrypt This!\n",
    "\n",
    "\n",
    "You want to create secret messages which can be deciphered by the Decipher this! kata. Here are the conditions:\n",
    "\n",
    "Your message is a string containing space separated words.\n",
    "\n",
    "You need to encrypt each word in the message using the following rules: <br>\n",
    "1: The first letter needs to be converted to its ASCII code. <br>\n",
    "2: The second letter needs to be switched with the last letter\n",
    "\n",
    "Keepin' it simple: There are no special characters in input.\n",
    "\n",
    "Examples:\n",
    "\n",
    "    encrypt_this(\"Hello\") == \"72olle\"\n",
    "    encrypt_this(\"good\") == \"103doo\"\n",
    "    encrypt_this(\"hello world\") == \"104olle 119drlo\""
   ]
  },
  {
   "cell_type": "code",
   "execution_count": 24,
   "metadata": {},
   "outputs": [],
   "source": [
    "def encrypt_this(text):\n",
    "    output = []\n",
    "    for w in text.split():\n",
    "        word = []\n",
    "        for i, c in enumerate(w):\n",
    "            if i == 0:\n",
    "                word.append(str(ord(c)))\n",
    "            elif len(w) > 2 and i == len(w) - 1:\n",
    "                word.append(w[1])\n",
    "                word[1] = c\n",
    "            else:\n",
    "                word.append(c)\n",
    "        output.append(''.join(word))\n",
    "    return ' '.join(output)"
   ]
  },
  {
   "cell_type": "code",
   "execution_count": 25,
   "metadata": {},
   "outputs": [
    {
     "name": "stdout",
     "output_type": "stream",
     "text": [
      "\n",
      "\n",
      "65 119esi 111dl 111lw 108dvei 105n 97n 111ka\n",
      "65 119esi 111dl 111lw 108dvei 105n 97n 111ka\n",
      "84eh 109ero 104e 115wa 116eh 108sse 104e 115eokp\n",
      "84eh 109ero 104e 115wa 116eh 108sse 104e 115eokp\n",
      "84eh 108sse 104e 115eokp 116eh 109ero 104e 104dare\n",
      "84eh 108sse 104e 115eokp 116eh 109ero 104e 104dare\n",
      "87yh 99na 119e 110to 97ll 98e 108eki 116tah 119esi 111dl 98dri\n",
      "87yh 99na 119e 110to 97ll 98e 108eki 116tah 119esi 111dl 98dri\n",
      "84kanh 121uo 80roti 102ro 97ll 121ruo 104ple\n",
      "84kanh 121uo 80roti 102ro 97ll 121ruo 104ple\n"
     ]
    }
   ],
   "source": [
    "tests = [\n",
    "    (\"\", \"\"),\n",
    "    (\"A wise old owl lived in an oak\", \"65 119esi 111dl 111lw 108dvei 105n 97n 111ka\"),\n",
    "    (\"The more he saw the less he spoke\", \"84eh 109ero 104e 115wa 116eh 108sse 104e 115eokp\"),\n",
    "    (\"The less he spoke the more he heard\", \"84eh 108sse 104e 115eokp 116eh 109ero 104e 104dare\"),\n",
    "    (\"Why can we not all be like that wise old bird\", \"87yh 99na 119e 110to 97ll 98e 108eki 116tah 119esi 111dl 98dri\"),\n",
    "    (\"Thank you Piotr for all your help\", \"84kanh 121uo 80roti 102ro 97ll 121ruo 104ple\"),\n",
    "]\n",
    "\n",
    "for t in tests:\n",
    "    inp, exp = t\n",
    "    print(encrypt_this(inp))\n",
    "    print(exp)"
   ]
  }
 ],
 "metadata": {
  "kernelspec": {
   "display_name": "Python [conda env:learn-env] *",
   "language": "python",
   "name": "conda-env-learn-env-py"
  },
  "language_info": {
   "codemirror_mode": {
    "name": "ipython",
    "version": 3
   },
   "file_extension": ".py",
   "mimetype": "text/x-python",
   "name": "python",
   "nbconvert_exporter": "python",
   "pygments_lexer": "ipython3",
   "version": "3.6.9"
  }
 },
 "nbformat": 4,
 "nbformat_minor": 2
}
