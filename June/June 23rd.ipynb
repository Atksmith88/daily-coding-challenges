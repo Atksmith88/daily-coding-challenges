{
 "cells": [
  {
   "cell_type": "markdown",
   "metadata": {},
   "source": [
    "## Grocer Grouping\n",
    "Ever since you started work at the grocer, you have been faithfully logging down each item and its category that passes through. One day, your boss walks in and asks, \"Why are we just randomly placing the items everywhere? It's too difficult to find anything in this place!\" Now's your chance to improve the system, impress your boss, and get that raise!\n",
    "\n",
    "The input is a comma-separated list with category as the prefix in the form \"fruit_banana\". Your task is to group each item into the 4 categories Fruit, Meat, Other, Vegetable and output a string with a category on each line followed by a sorted comma-separated list of items.\n",
    "\n",
    "For example, given:\n",
    "\n",
    "    \"fruit_banana,vegetable_carrot,fruit_apple,canned_sardines,drink_juice,fruit_orange\"\n",
    "\n",
    "output:\n",
    "\n",
    "    \"fruit:apple,banana,orange\\nmeat:\\nother:juice,sardines\\nvegetable:carrot\"\n",
    "\n",
    "Assume that:\n",
    "\n",
    "1: Only strings of the format category_item will be passed in. <br>\n",
    "2: Strings will always be in lower case. <br>\n",
    "3: Input will not be empty. <br>\n",
    "4: Category and/or item will not be empty. <br>\n",
    "5: There will be no duplicate items. <br>\n",
    "6: All categories may not have items. <br>"
   ]
  },
  {
   "cell_type": "code",
   "execution_count": 54,
   "metadata": {},
   "outputs": [],
   "source": [
    "def group_groceries(groceries):\n",
    "    groc_dict = {'fruit': [], 'meat': [], 'other': [], 'vegetable': []}\n",
    "    for i in groceries.split(\",\"):\n",
    "        if i.split(\"_\")[0] in groc_dict.keys():\n",
    "            groc_dict[i.split(\"_\")[0]].append(i.split(\"_\")[1])\n",
    "        else:\n",
    "            groc_dict['other'].append(i.split(\"_\")[1])\n",
    "    s = [f\"{k}:{','.join(sorted(groc_dict[k]))}\\n\" for k in groc_dict.keys()]\n",
    "    return ''.join(s).strip()"
   ]
  },
  {
   "cell_type": "code",
   "execution_count": 55,
   "metadata": {},
   "outputs": [
    {
     "data": {
      "text/plain": [
       "'fruit:apple,banana,orange\\nmeat:\\nother:juice,sardines\\nvegetable:carrot'"
      ]
     },
     "execution_count": 55,
     "metadata": {},
     "output_type": "execute_result"
    }
   ],
   "source": [
    "input_ = \"fruit_banana,vegetable_carrot,fruit_apple,canned_sardines,drink_juice,fruit_orange\"\n",
    "\n",
    "# output =\n",
    "# fruit:apple,banana,orange\n",
    "# meat:\n",
    "# other:juice,sardines\n",
    "# vegetable:carrot\n",
    "\n",
    "group_groceries(input_)"
   ]
  },
  {
   "cell_type": "code",
   "execution_count": null,
   "metadata": {},
   "outputs": [],
   "source": []
  }
 ],
 "metadata": {
  "kernelspec": {
   "display_name": "Python [conda env:learn-env] *",
   "language": "python",
   "name": "conda-env-learn-env-py"
  },
  "language_info": {
   "codemirror_mode": {
    "name": "ipython",
    "version": 3
   },
   "file_extension": ".py",
   "mimetype": "text/x-python",
   "name": "python",
   "nbconvert_exporter": "python",
   "pygments_lexer": "ipython3",
   "version": "3.6.9"
  }
 },
 "nbformat": 4,
 "nbformat_minor": 2
}
